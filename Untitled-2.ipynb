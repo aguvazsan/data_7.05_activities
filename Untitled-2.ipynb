{
 "cells": [
  {
   "cell_type": "markdown",
   "metadata": {},
   "source": [
    "# 7.05 Activity 1\n",
    "\n",
    "- List down three more examples of cases where ANOVA could be useful.\n",
    "\n",
    "* Comparar la venta de boletos por línea\n",
    "* La concurrencia en teatros\n",
    "* La productividad de tres o mas equipos"
   ]
  },
  {
   "cell_type": "markdown",
   "metadata": {},
   "source": [
    "# 7.05 Activity 2\n",
    "\n",
    "- What are some of the assumptions of one way ANOVA?\n",
    "  This is one good resource that you can use to read more about ANOVA and other statistics content: [external resource](https://online.stat.psu.edu/stat500/lesson/10/10.2/10.2.1).\n"
   ]
  }
 ],
 "metadata": {
  "kernelspec": {
   "display_name": "Ironhack",
   "language": "python",
   "name": "python3"
  },
  "language_info": {
   "name": "python",
   "version": "3.9.16"
  },
  "orig_nbformat": 4
 },
 "nbformat": 4,
 "nbformat_minor": 2
}
